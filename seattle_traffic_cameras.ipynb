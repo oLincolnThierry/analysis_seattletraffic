# -*- coding: utf-8 -*-

metadata_json = '/content/socrata_metadata.json' #Introduzir novos dados

import pandas as pd
import matplotlib.pyplot as plt
import seaborn as sns
from pandas import json_normalize
import re
from PIL import Image

!pip install kaggle

from google.colab import files
files.upload() #enviar o arquivo kaggle.json

#antes de importar o dataset nós iremos provisionar o local de armazenamento
!mkdir -p ~/.kaggle
!cp kaggle.json ~/.kaggle/

#Alterar a permissão para evitar o aviso durante a partida da ferramenta Kaggle
!chmod 600 ~/.kaggle/kaggle.json

!kaggle datasets download -d city-of-seattle/seattle-traffic-cameras

#Descompactar o arquivo baixado
!unzip \*.zip  && rm *.zip

# importar os pacotes necessários
import pandas as pd

# importar o arquivo
df = pd.read_csv("/content/seattle-traffic-cameras.csv") #aqui você deve especificar o nome do arquivo .csv que deseja importar

# ver 5 as primeiras entradas
df.head()

df.columns

df.shape

df.info()

df.index

df.count()

df.isnull().sum()

df.isnull().sum() / df.shape[0] * 100

df_pos = df.fillna({'VIDEOURL': 'N/A', 'WEBURL': 'N/A'})

for i in df.columns:
  print(f'{i}:{df[i].nunique()}')

pd.set_option('display.max_colwidth', 1000)
df_pos['LOCATION'].head()

df_pos.drop('LOCATION',axis = 1, inplace= True)

df['VIDEOURL'].head()

pd.set_option('display.max_colwidth', 1000)
df['IMAGEURL'].head()

df.CAMERALABEL.head()

def extrair_direcao_cardinal(label):
    direcoes_cardinais = {
        'W': 'West',
        'SW': 'Southwest',
        'SE': 'Southeast',
        'S': 'South',
        'NW': 'Northwest',
        'NE': 'Northeast',
        'N': 'North',
        'E': 'East',
        'North': 'North',
        'South': 'South',
        'East': 'East',
        'West': 'West',
        'Southwest': 'Southwest',
        'Southeast': 'Southeast',
        'Northwest': 'Northwest',
        'Northeast': 'Northeast',
        'Magnolia/Queen Anne': 'Magnolia/Queen Anne',
        'Lake Union': 'Lake Union',
        'Greater Duwamish': 'Greater Duwamish',
        'Downtown': 'Downtown',
        'Delridge': 'Delridge',
        'Central': 'Central',
        'Ballard': 'Ballard'
    }

    match = re.search(r'\b(' + '|'.join(direcoes_cardinais.keys()) + r')\b', label)
    return direcoes_cardinais[match.group(1)] if match else None

# Aplicar a função à coluna "CAMERALABEL" e criar uma nova coluna "DIRECAO_CARDINAL"
df_pos['CARDINAL_DIRECTION'] = df_pos['CAMERALABEL'].apply(extrair_direcao_cardinal)

# Exibir o DataFrame resultante
df_pos.head()

df_pos.count()

df_pos.isnull().sum() / df_pos.shape[0] * 100

df_pos = df_pos.fillna({'CARDINAL_DIRECTION': 'N/A'})

df_pos = df_pos.rename(columns={'XPOS':'LONGITUDE','YPOS':'LATITUDE'})

import ast

def extrair_url(dicionario_str):
    try:
        dicionario = ast.literal_eval(dicionario_str)
        return dicionario.get('url', None)
    except (SyntaxError, ValueError):
        return None

df_pos['IMAGEURL'] = df_pos['IMAGEURL'].apply(extrair_url)

df_pos.head()

df_pos.info()

# Extract the letters 'S' and 'WS' into separate columns
df_pos[['Letra_S', 'Letras_WS']] = df_pos['OWNERSHIPCD'].str.extract(r'(?P<Letra_S>S|)(?P<Letras_WS>WS|)')

# Combine the columns into a single 'REGION' column
df_pos['REGION'] = df_pos['Letra_S'].fillna('') + df_pos['Letras_WS'].fillna('')

# Drop the temporary columns
df_pos.drop(columns=['Letra_S', 'Letras_WS'], inplace=True)

# Replace 'S' with 'Seattle' and 'WS' with 'Washington'
df_pos['REGION'] = df_pos['REGION'].replace({'S': 'Seattle', 'WS': 'Washington'})

df_pos.head()

cont_strings = df_pos['OWNERSHIPCD'].value_counts()
print(cont_strings)

ownership = df_pos['OWNERSHIPCD'].value_counts()
plt.figure(figsize=(10, 6))
bar_chart = ownership.plot(kind='bar', color=['orange', 'purple'])
plt.title('Transportation Department Distribution')
plt.xlabel('Department')
plt.ylabel('Monitored Region ')
subtitle = ['Seattle Department of Transportation', 'Washington State Department of Transportation']
legend_labels = [plt.Line2D([0], [0], color='orange', lw=10),
                 plt.Line2D([0], [0], color='purple', lw=10)]
plt.legend(legend_labels, subtitle, loc='upper right')
plt.show()

df_pos['CARDINAL_DIRECTION'].value_counts()

df_pos['CARDINAL_DIRECTION'].value_counts().sum()

frequencia_cardinais = df_pos['CARDINAL_DIRECTION'].value_counts()

# Plotar o gráfico de barras
plt.figure(figsize=(10, 6))
frequencia_cardinais.plot(kind='bar', color='skyblue')
plt.title('Frequency of Cardinal Points')
plt.xlabel('Cardinal Points')
plt.ylabel('Camera by Region')
plt.show()

# @title Visualização do Mapa
# Ferramenta para visualização: Tableau
def exibir_imagem(imagem):
    plt.figure(figsize=(12, 24))
    plt.imshow(imagem)
    plt.axis('off')
    plt.show()

if __name__ == "__main__":
    # Lista de caminhos de imagens
    caminhos_imagens = ['/content/archives_png/photo-cam_0000.png',
                        '/content/archives_png/photo-cam_0001.png',
                       ]

    try:
        # Iterar sobre cada caminho de imagem
        for caminho_imagem in caminhos_imagens:
            imagem = Image.open(caminho_imagem)
            exibir_imagem(imagem)

    except Exception as e:
        print(f"Ocorreu um erro: {e}")

df_pos.to_csv('TR-seattle_traffic-cameras.csv', index= False, sep ='\t') # TR(Treated)
